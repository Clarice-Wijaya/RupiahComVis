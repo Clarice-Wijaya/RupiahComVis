{
 "cells": [
  {
   "cell_type": "code",
   "execution_count": 1,
   "metadata": {},
   "outputs": [
    {
     "name": "stderr",
     "output_type": "stream",
     "text": [
      "c:\\Users\\jasso\\.conda\\envs\\computer-vision-2\\lib\\site-packages\\tqdm\\auto.py:21: TqdmWarning: IProgress not found. Please update jupyter and ipywidgets. See https://ipywidgets.readthedocs.io/en/stable/user_install.html\n",
      "  from .autonotebook import tqdm as notebook_tqdm\n"
     ]
    }
   ],
   "source": [
    "import numpy as np\n",
    "import os\n",
    "import cv2\n",
    "import time\n",
    "from tqdm.auto import tqdm"
   ]
  },
  {
   "cell_type": "code",
   "execution_count": 2,
   "metadata": {},
   "outputs": [],
   "source": [
    "names = ['1 RIBU ASLI', '1 RIBU PALSU', '10 RIBU ASLI', '10 RIBU PALSU', \n",
    "         '100 RIBU ASLI', '100 RIBU PALSU', '20 RIBU ASLI', '20 RIBU PALSU', \n",
    "         '5 RIBU ASLI', '5 RIBU PALSU', '50 RIBU ASLI', '50 RIBU PALSU']"
   ]
  },
  {
   "cell_type": "code",
   "execution_count": 3,
   "metadata": {},
   "outputs": [],
   "source": [
    "dataset_path = \"C:\\Codes\\Computer Vision\\Project\\PROJECT-DATA-UANG-11\""
   ]
  },
  {
   "cell_type": "code",
   "execution_count": 4,
   "metadata": {},
   "outputs": [],
   "source": [
    "def load_dataset_with_folder_structure(folder_path,augment=True):\n",
    "    images_folder = os.path.join(folder_path, \"images\")\n",
    "    labels_folder = os.path.join(folder_path, \"labels\")\n",
    "    \n",
    "    data = []\n",
    "    labels = []\n",
    "    count=0\n",
    "    \n",
    "    for img_name in os.listdir(images_folder):\n",
    "        if img_name.endswith(\".jpg\"): \n",
    "            img_path = os.path.join(images_folder, img_name)\n",
    "            label_path = os.path.join(labels_folder, os.path.splitext(img_name)[0] + \".txt\")  # File label\n",
    "\n",
    "            img = cv2.imread(img_path)\n",
    "            if img is not None and os.path.exists(label_path):  # Pastikan gambar dan label ada\n",
    "                resized_img = cv2.resize(img, (512, 512))  # Resize gambar\n",
    "                data.append(resized_img)\n",
    "                \n",
    "                with open(label_path, \"r\") as f:\n",
    "                    first_line = f.readline().strip()  # Ambil baris pertama\n",
    "                    class_index = int(first_line.split()[0])  # Digit pertama sebagai label\n",
    "                    labels.append(class_index)\n",
    "    \n",
    "    \n",
    "    return np.asarray(data, dtype=np.uint8), np.array(labels, dtype=np.int32)"
   ]
  },
  {
   "cell_type": "code",
   "execution_count": 5,
   "metadata": {},
   "outputs": [],
   "source": [
    "x_val, y_val=load_dataset_with_folder_structure(dataset_path+'/valid/', False)\n",
    "x_test, y_test=load_dataset_with_folder_structure(dataset_path+'/test/', False)\n",
    "x_train, y_train=load_dataset_with_folder_structure(dataset_path+'/train/', False)"
   ]
  },
  {
   "cell_type": "code",
   "execution_count": 6,
   "metadata": {},
   "outputs": [],
   "source": [
    "import torch\n",
    "from torchvision import models"
   ]
  },
  {
   "cell_type": "code",
   "execution_count": 7,
   "metadata": {},
   "outputs": [],
   "source": [
    "class VGG19(torch.nn.Module):\n",
    "    def __init__(self):\n",
    "        super(VGG19, self).__init__()\n",
    "        self.vgg19 = models.vgg19(pretrained=True)\n",
    "        self.vgg19.fc = torch.nn.Linear(in_features=2048, out_features=12)\n",
    "        # self.resnet.compile()\n",
    "        \n",
    "    def forward(self, x):\n",
    "        return self.vgg19(x)"
   ]
  },
  {
   "cell_type": "code",
   "execution_count": 8,
   "metadata": {},
   "outputs": [],
   "source": [
    "from torchvision import transforms\n",
    "import torch\n",
    "import torch.nn as nn\n",
    "import torch.optim as optim\n",
    "from torch.utils.data import DataLoader, Dataset"
   ]
  },
  {
   "cell_type": "code",
   "execution_count": 9,
   "metadata": {},
   "outputs": [],
   "source": [
    "class MoneyDataset(Dataset):\n",
    "    def __init__(self, x, y, transform=None):\n",
    "        self.x = x\n",
    "        self.y = y\n",
    "        self.transform = transform\n",
    "\n",
    "    def __len__(self):\n",
    "        return len(self.x)\n",
    "\n",
    "    def __getitem__(self, idx):\n",
    "        image = self.x[idx]\n",
    "        label = self.y[idx]\n",
    "\n",
    "        if self.transform:\n",
    "            image = self.transform(image)\n",
    "            label = torch.tensor(label)\n",
    "\n",
    "        return image, label"
   ]
  },
  {
   "cell_type": "code",
   "execution_count": 10,
   "metadata": {},
   "outputs": [],
   "source": [
    "transform = transforms.Compose([\n",
    "    transforms.ToTensor()\n",
    "])\n",
    "train_dataset = MoneyDataset(x_train, y_train, transform)\n",
    "val_dataset = MoneyDataset(x_val, y_val, transform)\n",
    "test_dataset = MoneyDataset(x_test, y_test, transform)"
   ]
  },
  {
   "cell_type": "code",
   "execution_count": 11,
   "metadata": {},
   "outputs": [],
   "source": [
    "train_loader = DataLoader(train_dataset, batch_size=6, shuffle=True)\n",
    "val_loader = DataLoader(val_dataset, batch_size=4)\n"
   ]
  },
  {
   "cell_type": "code",
   "execution_count": 12,
   "metadata": {},
   "outputs": [],
   "source": [
    "test_loader = DataLoader(test_dataset)"
   ]
  },
  {
   "cell_type": "code",
   "execution_count": 13,
   "metadata": {},
   "outputs": [
    {
     "data": {
      "text/plain": [
       "639"
      ]
     },
     "execution_count": 13,
     "metadata": {},
     "output_type": "execute_result"
    }
   ],
   "source": [
    "len(train_loader)"
   ]
  },
  {
   "cell_type": "code",
   "execution_count": 14,
   "metadata": {},
   "outputs": [],
   "source": [
    "\n",
    "def run_one_epoch(\n",
    "    epoch: int,\n",
    "    ds_sizes,\n",
    "    dataloaders,\n",
    "    model: nn.Module,\n",
    "    optimizer: torch.optim.Optimizer,\n",
    "    loss: nn.Module,\n",
    "    scheduler: torch.optim.lr_scheduler,\n",
    "    criterion: nn.Module\n",
    "):\n",
    "    global best_AUROC\n",
    "    \n",
    "    metrics = {}\n",
    "    device = 'cuda' if torch.cuda.is_available() else 'cpu'\n",
    "    \n",
    "    for phase in [\"train\", \"val\"]:\n",
    "\n",
    "        if phase == \"train\":\n",
    "            model.train()\n",
    "        else:\n",
    "            model.eval()\n",
    "        \n",
    "        avg_loss = 0\n",
    "\n",
    "        for images, labels in tqdm(dataloaders[phase], total=len(dataloaders[phase])):\n",
    "            labels = labels.type(torch.LongTensor)\n",
    "            images = images.to(device)\n",
    "            labels = labels.to(device)\n",
    "\n",
    "            # Zero the gradients\n",
    "            optimizer.zero_grad()\n",
    "\n",
    "            # Track history if in phase == \"train\"\n",
    "            with torch.set_grad_enabled(phase == \"train\"):\n",
    "                outputs = model(images)\n",
    "                \n",
    "                # print(outputs)\n",
    "                # print(labels)\n",
    "                loss = criterion(outputs, labels)\n",
    "                \n",
    "                if phase == \"train\":\n",
    "                    loss.backward()\n",
    "                    optimizer.step()\n",
    "\n",
    "            avg_loss += loss.item() * images.size(0)\n",
    "\n",
    "        epoch_loss = avg_loss / ds_sizes[phase]\n",
    "        \n",
    "        # step the scheduler\n",
    "        if phase == \"train\":\n",
    "            scheduler.step(epoch_loss)\n",
    "        \n",
    "\n",
    "        # Metrics tracking\n",
    "        if phase == \"train\":\n",
    "            metrics[\"train_loss\"] = round(epoch_loss, 3)\n",
    "        else:\n",
    "            metrics[\"val_loss\"] = round(epoch_loss, 3)\n",
    "\n",
    "    return metrics"
   ]
  },
  {
   "cell_type": "code",
   "execution_count": 15,
   "metadata": {},
   "outputs": [],
   "source": [
    "def train(dataloaders, ds_sizes, model, optimizer, criterion, scheduler):\n",
    "    for epoch in range(20):\n",
    "        start = time.time()\n",
    "\n",
    "        metrics = run_one_epoch(\n",
    "            epoch=epoch,\n",
    "            ds_sizes=ds_sizes,\n",
    "            dataloaders=dataloaders,\n",
    "            model=model,\n",
    "            optimizer=optimizer,\n",
    "            loss=criterion,\n",
    "            scheduler=scheduler,\n",
    "            criterion=criterion\n",
    "        )\n",
    "\n",
    "        end = time.time() - start\n",
    "\n",
    "        print(f\"Epoch {epoch+1} completed in: {round(end/60, 3)} mins, val_loss: {metrics['val_loss']}, train_loss: {metrics['train_loss']}\")\n",
    "    return model"
   ]
  },
  {
   "cell_type": "code",
   "execution_count": 16,
   "metadata": {},
   "outputs": [
    {
     "name": "stderr",
     "output_type": "stream",
     "text": [
      "c:\\Users\\jasso\\.conda\\envs\\computer-vision-2\\lib\\site-packages\\torchvision\\models\\_utils.py:208: UserWarning: The parameter 'pretrained' is deprecated since 0.13 and may be removed in the future, please use 'weights' instead.\n",
      "  warnings.warn(\n",
      "c:\\Users\\jasso\\.conda\\envs\\computer-vision-2\\lib\\site-packages\\torchvision\\models\\_utils.py:223: UserWarning: Arguments other than a weight enum or `None` for 'weights' are deprecated since 0.13 and may be removed in the future. The current behavior is equivalent to passing `weights=VGG19_Weights.IMAGENET1K_V1`. You can also use `weights=VGG19_Weights.DEFAULT` to get the most up-to-date weights.\n",
      "  warnings.warn(msg)\n",
      "100%|██████████| 639/639 [05:09<00:00,  2.06it/s]\n",
      "100%|██████████| 137/137 [00:14<00:00,  9.41it/s]\n"
     ]
    },
    {
     "name": "stdout",
     "output_type": "stream",
     "text": [
      "Epoch 1 completed in: 5.403 mins, val_loss: 2.458, train_loss: 2.779\n"
     ]
    },
    {
     "name": "stderr",
     "output_type": "stream",
     "text": [
      "100%|██████████| 639/639 [05:01<00:00,  2.12it/s]\n",
      "100%|██████████| 137/137 [00:14<00:00,  9.41it/s]\n"
     ]
    },
    {
     "name": "stdout",
     "output_type": "stream",
     "text": [
      "Epoch 2 completed in: 5.269 mins, val_loss: 2.438, train_loss: 2.431\n"
     ]
    },
    {
     "name": "stderr",
     "output_type": "stream",
     "text": [
      "100%|██████████| 639/639 [05:01<00:00,  2.12it/s]\n",
      "100%|██████████| 137/137 [00:14<00:00,  9.44it/s]\n"
     ]
    },
    {
     "name": "stdout",
     "output_type": "stream",
     "text": [
      "Epoch 3 completed in: 5.271 mins, val_loss: 2.43, train_loss: 2.426\n"
     ]
    },
    {
     "name": "stderr",
     "output_type": "stream",
     "text": [
      "100%|██████████| 639/639 [05:03<00:00,  2.11it/s]\n",
      "100%|██████████| 137/137 [00:14<00:00,  9.42it/s]\n"
     ]
    },
    {
     "name": "stdout",
     "output_type": "stream",
     "text": [
      "Epoch 4 completed in: 5.293 mins, val_loss: 2.416, train_loss: 2.418\n"
     ]
    },
    {
     "name": "stderr",
     "output_type": "stream",
     "text": [
      "100%|██████████| 639/639 [04:59<00:00,  2.14it/s]\n",
      "100%|██████████| 137/137 [00:14<00:00,  9.43it/s]\n"
     ]
    },
    {
     "name": "stdout",
     "output_type": "stream",
     "text": [
      "Epoch 5 completed in: 5.228 mins, val_loss: 2.417, train_loss: 2.416\n"
     ]
    },
    {
     "name": "stderr",
     "output_type": "stream",
     "text": [
      "100%|██████████| 639/639 [04:58<00:00,  2.14it/s]\n",
      "100%|██████████| 137/137 [00:14<00:00,  9.44it/s]\n"
     ]
    },
    {
     "name": "stdout",
     "output_type": "stream",
     "text": [
      "Epoch 6 completed in: 5.224 mins, val_loss: 2.418, train_loss: 2.414\n"
     ]
    },
    {
     "name": "stderr",
     "output_type": "stream",
     "text": [
      "100%|██████████| 639/639 [04:57<00:00,  2.15it/s]\n",
      "100%|██████████| 137/137 [00:14<00:00,  9.42it/s]\n"
     ]
    },
    {
     "name": "stdout",
     "output_type": "stream",
     "text": [
      "Epoch 7 completed in: 5.207 mins, val_loss: 2.414, train_loss: 2.414\n"
     ]
    },
    {
     "name": "stderr",
     "output_type": "stream",
     "text": [
      "100%|██████████| 639/639 [04:56<00:00,  2.15it/s]\n",
      "100%|██████████| 137/137 [00:14<00:00,  9.45it/s]\n"
     ]
    },
    {
     "name": "stdout",
     "output_type": "stream",
     "text": [
      "Epoch 8 completed in: 5.186 mins, val_loss: 2.418, train_loss: 2.412\n"
     ]
    },
    {
     "name": "stderr",
     "output_type": "stream",
     "text": [
      "100%|██████████| 639/639 [04:53<00:00,  2.17it/s]\n",
      "100%|██████████| 137/137 [00:14<00:00,  9.40it/s]\n"
     ]
    },
    {
     "name": "stdout",
     "output_type": "stream",
     "text": [
      "Epoch 9 completed in: 5.142 mins, val_loss: 2.418, train_loss: 2.41\n"
     ]
    },
    {
     "name": "stderr",
     "output_type": "stream",
     "text": [
      "100%|██████████| 639/639 [04:53<00:00,  2.18it/s]\n",
      "100%|██████████| 137/137 [00:14<00:00,  9.51it/s]\n"
     ]
    },
    {
     "name": "stdout",
     "output_type": "stream",
     "text": [
      "Epoch 10 completed in: 5.131 mins, val_loss: 2.415, train_loss: 2.409\n"
     ]
    },
    {
     "name": "stderr",
     "output_type": "stream",
     "text": [
      "100%|██████████| 639/639 [04:54<00:00,  2.17it/s]\n",
      "100%|██████████| 137/137 [00:14<00:00,  9.46it/s]\n"
     ]
    },
    {
     "name": "stdout",
     "output_type": "stream",
     "text": [
      "Epoch 11 completed in: 5.147 mins, val_loss: 2.413, train_loss: 2.407\n"
     ]
    },
    {
     "name": "stderr",
     "output_type": "stream",
     "text": [
      "100%|██████████| 639/639 [04:51<00:00,  2.19it/s]\n",
      "100%|██████████| 137/137 [00:12<00:00, 10.86it/s]\n"
     ]
    },
    {
     "name": "stdout",
     "output_type": "stream",
     "text": [
      "Epoch 12 completed in: 5.069 mins, val_loss: 2.417, train_loss: 2.408\n"
     ]
    },
    {
     "name": "stderr",
     "output_type": "stream",
     "text": [
      "100%|██████████| 639/639 [04:32<00:00,  2.34it/s]\n",
      "100%|██████████| 137/137 [00:12<00:00, 10.85it/s]\n"
     ]
    },
    {
     "name": "stdout",
     "output_type": "stream",
     "text": [
      "Epoch 13 completed in: 4.757 mins, val_loss: 2.411, train_loss: 2.406\n"
     ]
    },
    {
     "name": "stderr",
     "output_type": "stream",
     "text": [
      "100%|██████████| 639/639 [04:32<00:00,  2.34it/s]\n",
      "100%|██████████| 137/137 [00:12<00:00, 10.82it/s]\n"
     ]
    },
    {
     "name": "stdout",
     "output_type": "stream",
     "text": [
      "Epoch 14 completed in: 4.759 mins, val_loss: 2.419, train_loss: 2.405\n"
     ]
    },
    {
     "name": "stderr",
     "output_type": "stream",
     "text": [
      "100%|██████████| 639/639 [04:32<00:00,  2.34it/s]\n",
      "100%|██████████| 137/137 [00:12<00:00, 10.86it/s]\n"
     ]
    },
    {
     "name": "stdout",
     "output_type": "stream",
     "text": [
      "Epoch 15 completed in: 4.758 mins, val_loss: 2.415, train_loss: 2.405\n"
     ]
    },
    {
     "name": "stderr",
     "output_type": "stream",
     "text": [
      "100%|██████████| 639/639 [04:32<00:00,  2.34it/s]\n",
      "100%|██████████| 137/137 [00:12<00:00, 10.84it/s]\n"
     ]
    },
    {
     "name": "stdout",
     "output_type": "stream",
     "text": [
      "Epoch 16 completed in: 4.76 mins, val_loss: 2.411, train_loss: 2.404\n"
     ]
    },
    {
     "name": "stderr",
     "output_type": "stream",
     "text": [
      "100%|██████████| 639/639 [04:33<00:00,  2.34it/s]\n",
      "100%|██████████| 137/137 [00:12<00:00, 10.84it/s]\n"
     ]
    },
    {
     "name": "stdout",
     "output_type": "stream",
     "text": [
      "Epoch 17 completed in: 4.761 mins, val_loss: 2.413, train_loss: 2.404\n"
     ]
    },
    {
     "name": "stderr",
     "output_type": "stream",
     "text": [
      "100%|██████████| 639/639 [04:32<00:00,  2.34it/s]\n",
      "100%|██████████| 137/137 [00:12<00:00, 10.83it/s]\n"
     ]
    },
    {
     "name": "stdout",
     "output_type": "stream",
     "text": [
      "Epoch 18 completed in: 4.757 mins, val_loss: 2.411, train_loss: 2.405\n"
     ]
    },
    {
     "name": "stderr",
     "output_type": "stream",
     "text": [
      "100%|██████████| 639/639 [04:33<00:00,  2.34it/s]\n",
      "100%|██████████| 137/137 [00:12<00:00, 10.84it/s]\n"
     ]
    },
    {
     "name": "stdout",
     "output_type": "stream",
     "text": [
      "Epoch 19 completed in: 4.762 mins, val_loss: 2.414, train_loss: 2.404\n"
     ]
    },
    {
     "name": "stderr",
     "output_type": "stream",
     "text": [
      "100%|██████████| 639/639 [04:32<00:00,  2.34it/s]\n",
      "100%|██████████| 137/137 [00:12<00:00, 10.84it/s]"
     ]
    },
    {
     "name": "stdout",
     "output_type": "stream",
     "text": [
      "Epoch 20 completed in: 4.761 mins, val_loss: 2.412, train_loss: 2.404\n"
     ]
    },
    {
     "name": "stderr",
     "output_type": "stream",
     "text": [
      "\n"
     ]
    },
    {
     "data": {
      "text/plain": [
       "VGG19(\n",
       "  (vgg19): VGG(\n",
       "    (features): Sequential(\n",
       "      (0): Conv2d(3, 64, kernel_size=(3, 3), stride=(1, 1), padding=(1, 1))\n",
       "      (1): ReLU(inplace=True)\n",
       "      (2): Conv2d(64, 64, kernel_size=(3, 3), stride=(1, 1), padding=(1, 1))\n",
       "      (3): ReLU(inplace=True)\n",
       "      (4): MaxPool2d(kernel_size=2, stride=2, padding=0, dilation=1, ceil_mode=False)\n",
       "      (5): Conv2d(64, 128, kernel_size=(3, 3), stride=(1, 1), padding=(1, 1))\n",
       "      (6): ReLU(inplace=True)\n",
       "      (7): Conv2d(128, 128, kernel_size=(3, 3), stride=(1, 1), padding=(1, 1))\n",
       "      (8): ReLU(inplace=True)\n",
       "      (9): MaxPool2d(kernel_size=2, stride=2, padding=0, dilation=1, ceil_mode=False)\n",
       "      (10): Conv2d(128, 256, kernel_size=(3, 3), stride=(1, 1), padding=(1, 1))\n",
       "      (11): ReLU(inplace=True)\n",
       "      (12): Conv2d(256, 256, kernel_size=(3, 3), stride=(1, 1), padding=(1, 1))\n",
       "      (13): ReLU(inplace=True)\n",
       "      (14): Conv2d(256, 256, kernel_size=(3, 3), stride=(1, 1), padding=(1, 1))\n",
       "      (15): ReLU(inplace=True)\n",
       "      (16): Conv2d(256, 256, kernel_size=(3, 3), stride=(1, 1), padding=(1, 1))\n",
       "      (17): ReLU(inplace=True)\n",
       "      (18): MaxPool2d(kernel_size=2, stride=2, padding=0, dilation=1, ceil_mode=False)\n",
       "      (19): Conv2d(256, 512, kernel_size=(3, 3), stride=(1, 1), padding=(1, 1))\n",
       "      (20): ReLU(inplace=True)\n",
       "      (21): Conv2d(512, 512, kernel_size=(3, 3), stride=(1, 1), padding=(1, 1))\n",
       "      (22): ReLU(inplace=True)\n",
       "      (23): Conv2d(512, 512, kernel_size=(3, 3), stride=(1, 1), padding=(1, 1))\n",
       "      (24): ReLU(inplace=True)\n",
       "      (25): Conv2d(512, 512, kernel_size=(3, 3), stride=(1, 1), padding=(1, 1))\n",
       "      (26): ReLU(inplace=True)\n",
       "      (27): MaxPool2d(kernel_size=2, stride=2, padding=0, dilation=1, ceil_mode=False)\n",
       "      (28): Conv2d(512, 512, kernel_size=(3, 3), stride=(1, 1), padding=(1, 1))\n",
       "      (29): ReLU(inplace=True)\n",
       "      (30): Conv2d(512, 512, kernel_size=(3, 3), stride=(1, 1), padding=(1, 1))\n",
       "      (31): ReLU(inplace=True)\n",
       "      (32): Conv2d(512, 512, kernel_size=(3, 3), stride=(1, 1), padding=(1, 1))\n",
       "      (33): ReLU(inplace=True)\n",
       "      (34): Conv2d(512, 512, kernel_size=(3, 3), stride=(1, 1), padding=(1, 1))\n",
       "      (35): ReLU(inplace=True)\n",
       "      (36): MaxPool2d(kernel_size=2, stride=2, padding=0, dilation=1, ceil_mode=False)\n",
       "    )\n",
       "    (avgpool): AdaptiveAvgPool2d(output_size=(7, 7))\n",
       "    (classifier): Sequential(\n",
       "      (0): Linear(in_features=25088, out_features=4096, bias=True)\n",
       "      (1): ReLU(inplace=True)\n",
       "      (2): Dropout(p=0.5, inplace=False)\n",
       "      (3): Linear(in_features=4096, out_features=4096, bias=True)\n",
       "      (4): ReLU(inplace=True)\n",
       "      (5): Dropout(p=0.5, inplace=False)\n",
       "      (6): Linear(in_features=4096, out_features=1000, bias=True)\n",
       "    )\n",
       "    (fc): Linear(in_features=2048, out_features=12, bias=True)\n",
       "  )\n",
       ")"
      ]
     },
     "execution_count": 16,
     "metadata": {},
     "output_type": "execute_result"
    }
   ],
   "source": [
    "model = VGG19().to('cuda')\n",
    "criterion = nn.CrossEntropyLoss()  # For classification tasks\n",
    "optimizer = optim.Adam(model.parameters(), lr=0.001)\n",
    "scheduler = optim.lr_scheduler.ReduceLROnPlateau(optimizer, 'min', patience=3)\n",
    "\n",
    "dataloaders = {\n",
    "    \"train\": train_loader,\n",
    "    \"val\": val_loader,\n",
    "    \"test\": test_loader\n",
    "}\n",
    "\n",
    "ds_sizes = {\n",
    "    \"train\": len(train_dataset),\n",
    "    \"val\": len(val_dataset),\n",
    "    \"test\": len(test_dataset)\n",
    "}\n",
    "\n",
    "\n",
    "train(dataloaders, ds_sizes, model, optimizer, criterion, scheduler)"
   ]
  },
  {
   "cell_type": "code",
   "execution_count": 17,
   "metadata": {},
   "outputs": [
    {
     "data": {
      "text/plain": [
       "VGG19(\n",
       "  (vgg19): VGG(\n",
       "    (features): Sequential(\n",
       "      (0): Conv2d(3, 64, kernel_size=(3, 3), stride=(1, 1), padding=(1, 1))\n",
       "      (1): ReLU(inplace=True)\n",
       "      (2): Conv2d(64, 64, kernel_size=(3, 3), stride=(1, 1), padding=(1, 1))\n",
       "      (3): ReLU(inplace=True)\n",
       "      (4): MaxPool2d(kernel_size=2, stride=2, padding=0, dilation=1, ceil_mode=False)\n",
       "      (5): Conv2d(64, 128, kernel_size=(3, 3), stride=(1, 1), padding=(1, 1))\n",
       "      (6): ReLU(inplace=True)\n",
       "      (7): Conv2d(128, 128, kernel_size=(3, 3), stride=(1, 1), padding=(1, 1))\n",
       "      (8): ReLU(inplace=True)\n",
       "      (9): MaxPool2d(kernel_size=2, stride=2, padding=0, dilation=1, ceil_mode=False)\n",
       "      (10): Conv2d(128, 256, kernel_size=(3, 3), stride=(1, 1), padding=(1, 1))\n",
       "      (11): ReLU(inplace=True)\n",
       "      (12): Conv2d(256, 256, kernel_size=(3, 3), stride=(1, 1), padding=(1, 1))\n",
       "      (13): ReLU(inplace=True)\n",
       "      (14): Conv2d(256, 256, kernel_size=(3, 3), stride=(1, 1), padding=(1, 1))\n",
       "      (15): ReLU(inplace=True)\n",
       "      (16): Conv2d(256, 256, kernel_size=(3, 3), stride=(1, 1), padding=(1, 1))\n",
       "      (17): ReLU(inplace=True)\n",
       "      (18): MaxPool2d(kernel_size=2, stride=2, padding=0, dilation=1, ceil_mode=False)\n",
       "      (19): Conv2d(256, 512, kernel_size=(3, 3), stride=(1, 1), padding=(1, 1))\n",
       "      (20): ReLU(inplace=True)\n",
       "      (21): Conv2d(512, 512, kernel_size=(3, 3), stride=(1, 1), padding=(1, 1))\n",
       "      (22): ReLU(inplace=True)\n",
       "      (23): Conv2d(512, 512, kernel_size=(3, 3), stride=(1, 1), padding=(1, 1))\n",
       "      (24): ReLU(inplace=True)\n",
       "      (25): Conv2d(512, 512, kernel_size=(3, 3), stride=(1, 1), padding=(1, 1))\n",
       "      (26): ReLU(inplace=True)\n",
       "      (27): MaxPool2d(kernel_size=2, stride=2, padding=0, dilation=1, ceil_mode=False)\n",
       "      (28): Conv2d(512, 512, kernel_size=(3, 3), stride=(1, 1), padding=(1, 1))\n",
       "      (29): ReLU(inplace=True)\n",
       "      (30): Conv2d(512, 512, kernel_size=(3, 3), stride=(1, 1), padding=(1, 1))\n",
       "      (31): ReLU(inplace=True)\n",
       "      (32): Conv2d(512, 512, kernel_size=(3, 3), stride=(1, 1), padding=(1, 1))\n",
       "      (33): ReLU(inplace=True)\n",
       "      (34): Conv2d(512, 512, kernel_size=(3, 3), stride=(1, 1), padding=(1, 1))\n",
       "      (35): ReLU(inplace=True)\n",
       "      (36): MaxPool2d(kernel_size=2, stride=2, padding=0, dilation=1, ceil_mode=False)\n",
       "    )\n",
       "    (avgpool): AdaptiveAvgPool2d(output_size=(7, 7))\n",
       "    (classifier): Sequential(\n",
       "      (0): Linear(in_features=25088, out_features=4096, bias=True)\n",
       "      (1): ReLU(inplace=True)\n",
       "      (2): Dropout(p=0.5, inplace=False)\n",
       "      (3): Linear(in_features=4096, out_features=4096, bias=True)\n",
       "      (4): ReLU(inplace=True)\n",
       "      (5): Dropout(p=0.5, inplace=False)\n",
       "      (6): Linear(in_features=4096, out_features=1000, bias=True)\n",
       "    )\n",
       "    (fc): Linear(in_features=2048, out_features=12, bias=True)\n",
       "  )\n",
       ")"
      ]
     },
     "execution_count": 17,
     "metadata": {},
     "output_type": "execute_result"
    }
   ],
   "source": [
    "model.eval()"
   ]
  },
  {
   "cell_type": "code",
   "execution_count": 18,
   "metadata": {},
   "outputs": [
    {
     "name": "stdout",
     "output_type": "stream",
     "text": [
      "predicted: tensor([4], device='cuda:0'), actual: tensor([4], device='cuda:0', dtype=torch.uint8)\n",
      "predicted: tensor([4], device='cuda:0'), actual: tensor([4], device='cuda:0', dtype=torch.uint8)\n",
      "predicted: tensor([4], device='cuda:0'), actual: tensor([4], device='cuda:0', dtype=torch.uint8)\n",
      "predicted: tensor([4], device='cuda:0'), actual: tensor([4], device='cuda:0', dtype=torch.uint8)\n",
      "predicted: tensor([4], device='cuda:0'), actual: tensor([4], device='cuda:0', dtype=torch.uint8)\n",
      "predicted: tensor([4], device='cuda:0'), actual: tensor([4], device='cuda:0', dtype=torch.uint8)\n",
      "predicted: tensor([4], device='cuda:0'), actual: tensor([4], device='cuda:0', dtype=torch.uint8)\n",
      "predicted: tensor([4], device='cuda:0'), actual: tensor([4], device='cuda:0', dtype=torch.uint8)\n",
      "predicted: tensor([4], device='cuda:0'), actual: tensor([4], device='cuda:0', dtype=torch.uint8)\n",
      "predicted: tensor([4], device='cuda:0'), actual: tensor([4], device='cuda:0', dtype=torch.uint8)\n",
      "predicted: tensor([4], device='cuda:0'), actual: tensor([4], device='cuda:0', dtype=torch.uint8)\n",
      "predicted: tensor([4], device='cuda:0'), actual: tensor([4], device='cuda:0', dtype=torch.uint8)\n",
      "predicted: tensor([4], device='cuda:0'), actual: tensor([4], device='cuda:0', dtype=torch.uint8)\n",
      "predicted: tensor([4], device='cuda:0'), actual: tensor([4], device='cuda:0', dtype=torch.uint8)\n",
      "predicted: tensor([4], device='cuda:0'), actual: tensor([4], device='cuda:0', dtype=torch.uint8)\n",
      "predicted: tensor([4], device='cuda:0'), actual: tensor([10], device='cuda:0', dtype=torch.uint8)\n",
      "predicted: tensor([4], device='cuda:0'), actual: tensor([10], device='cuda:0', dtype=torch.uint8)\n",
      "predicted: tensor([4], device='cuda:0'), actual: tensor([10], device='cuda:0', dtype=torch.uint8)\n",
      "predicted: tensor([4], device='cuda:0'), actual: tensor([10], device='cuda:0', dtype=torch.uint8)\n",
      "predicted: tensor([4], device='cuda:0'), actual: tensor([10], device='cuda:0', dtype=torch.uint8)\n",
      "predicted: tensor([4], device='cuda:0'), actual: tensor([10], device='cuda:0', dtype=torch.uint8)\n",
      "predicted: tensor([4], device='cuda:0'), actual: tensor([10], device='cuda:0', dtype=torch.uint8)\n",
      "predicted: tensor([4], device='cuda:0'), actual: tensor([10], device='cuda:0', dtype=torch.uint8)\n",
      "predicted: tensor([4], device='cuda:0'), actual: tensor([10], device='cuda:0', dtype=torch.uint8)\n",
      "predicted: tensor([4], device='cuda:0'), actual: tensor([10], device='cuda:0', dtype=torch.uint8)\n",
      "predicted: tensor([4], device='cuda:0'), actual: tensor([10], device='cuda:0', dtype=torch.uint8)\n",
      "predicted: tensor([4], device='cuda:0'), actual: tensor([10], device='cuda:0', dtype=torch.uint8)\n",
      "predicted: tensor([4], device='cuda:0'), actual: tensor([10], device='cuda:0', dtype=torch.uint8)\n",
      "predicted: tensor([4], device='cuda:0'), actual: tensor([10], device='cuda:0', dtype=torch.uint8)\n",
      "predicted: tensor([4], device='cuda:0'), actual: tensor([10], device='cuda:0', dtype=torch.uint8)\n",
      "predicted: tensor([4], device='cuda:0'), actual: tensor([10], device='cuda:0', dtype=torch.uint8)\n",
      "predicted: tensor([4], device='cuda:0'), actual: tensor([4], device='cuda:0', dtype=torch.uint8)\n",
      "predicted: tensor([4], device='cuda:0'), actual: tensor([4], device='cuda:0', dtype=torch.uint8)\n",
      "predicted: tensor([4], device='cuda:0'), actual: tensor([4], device='cuda:0', dtype=torch.uint8)\n",
      "predicted: tensor([4], device='cuda:0'), actual: tensor([4], device='cuda:0', dtype=torch.uint8)\n",
      "predicted: tensor([4], device='cuda:0'), actual: tensor([4], device='cuda:0', dtype=torch.uint8)\n",
      "predicted: tensor([4], device='cuda:0'), actual: tensor([4], device='cuda:0', dtype=torch.uint8)\n",
      "predicted: tensor([4], device='cuda:0'), actual: tensor([4], device='cuda:0', dtype=torch.uint8)\n",
      "predicted: tensor([4], device='cuda:0'), actual: tensor([4], device='cuda:0', dtype=torch.uint8)\n",
      "predicted: tensor([4], device='cuda:0'), actual: tensor([4], device='cuda:0', dtype=torch.uint8)\n",
      "predicted: tensor([4], device='cuda:0'), actual: tensor([4], device='cuda:0', dtype=torch.uint8)\n",
      "predicted: tensor([4], device='cuda:0'), actual: tensor([4], device='cuda:0', dtype=torch.uint8)\n",
      "predicted: tensor([4], device='cuda:0'), actual: tensor([4], device='cuda:0', dtype=torch.uint8)\n",
      "predicted: tensor([4], device='cuda:0'), actual: tensor([4], device='cuda:0', dtype=torch.uint8)\n",
      "predicted: tensor([4], device='cuda:0'), actual: tensor([6], device='cuda:0', dtype=torch.uint8)\n",
      "predicted: tensor([4], device='cuda:0'), actual: tensor([6], device='cuda:0', dtype=torch.uint8)\n",
      "predicted: tensor([4], device='cuda:0'), actual: tensor([6], device='cuda:0', dtype=torch.uint8)\n",
      "predicted: tensor([4], device='cuda:0'), actual: tensor([6], device='cuda:0', dtype=torch.uint8)\n",
      "predicted: tensor([4], device='cuda:0'), actual: tensor([6], device='cuda:0', dtype=torch.uint8)\n",
      "predicted: tensor([4], device='cuda:0'), actual: tensor([6], device='cuda:0', dtype=torch.uint8)\n",
      "predicted: tensor([4], device='cuda:0'), actual: tensor([6], device='cuda:0', dtype=torch.uint8)\n",
      "predicted: tensor([4], device='cuda:0'), actual: tensor([6], device='cuda:0', dtype=torch.uint8)\n",
      "predicted: tensor([4], device='cuda:0'), actual: tensor([6], device='cuda:0', dtype=torch.uint8)\n",
      "predicted: tensor([4], device='cuda:0'), actual: tensor([6], device='cuda:0', dtype=torch.uint8)\n",
      "predicted: tensor([4], device='cuda:0'), actual: tensor([6], device='cuda:0', dtype=torch.uint8)\n",
      "predicted: tensor([4], device='cuda:0'), actual: tensor([6], device='cuda:0', dtype=torch.uint8)\n",
      "predicted: tensor([4], device='cuda:0'), actual: tensor([6], device='cuda:0', dtype=torch.uint8)\n",
      "predicted: tensor([4], device='cuda:0'), actual: tensor([6], device='cuda:0', dtype=torch.uint8)\n",
      "predicted: tensor([4], device='cuda:0'), actual: tensor([6], device='cuda:0', dtype=torch.uint8)\n",
      "predicted: tensor([4], device='cuda:0'), actual: tensor([10], device='cuda:0', dtype=torch.uint8)\n",
      "predicted: tensor([4], device='cuda:0'), actual: tensor([10], device='cuda:0', dtype=torch.uint8)\n",
      "predicted: tensor([4], device='cuda:0'), actual: tensor([10], device='cuda:0', dtype=torch.uint8)\n",
      "predicted: tensor([4], device='cuda:0'), actual: tensor([10], device='cuda:0', dtype=torch.uint8)\n",
      "predicted: tensor([4], device='cuda:0'), actual: tensor([10], device='cuda:0', dtype=torch.uint8)\n",
      "predicted: tensor([4], device='cuda:0'), actual: tensor([10], device='cuda:0', dtype=torch.uint8)\n",
      "predicted: tensor([4], device='cuda:0'), actual: tensor([10], device='cuda:0', dtype=torch.uint8)\n",
      "predicted: tensor([4], device='cuda:0'), actual: tensor([10], device='cuda:0', dtype=torch.uint8)\n",
      "predicted: tensor([4], device='cuda:0'), actual: tensor([10], device='cuda:0', dtype=torch.uint8)\n",
      "predicted: tensor([4], device='cuda:0'), actual: tensor([10], device='cuda:0', dtype=torch.uint8)\n",
      "predicted: tensor([4], device='cuda:0'), actual: tensor([10], device='cuda:0', dtype=torch.uint8)\n",
      "predicted: tensor([4], device='cuda:0'), actual: tensor([10], device='cuda:0', dtype=torch.uint8)\n",
      "predicted: tensor([4], device='cuda:0'), actual: tensor([10], device='cuda:0', dtype=torch.uint8)\n",
      "predicted: tensor([4], device='cuda:0'), actual: tensor([10], device='cuda:0', dtype=torch.uint8)\n",
      "predicted: tensor([4], device='cuda:0'), actual: tensor([10], device='cuda:0', dtype=torch.uint8)\n",
      "predicted: tensor([4], device='cuda:0'), actual: tensor([5], device='cuda:0', dtype=torch.uint8)\n",
      "predicted: tensor([4], device='cuda:0'), actual: tensor([5], device='cuda:0', dtype=torch.uint8)\n",
      "predicted: tensor([4], device='cuda:0'), actual: tensor([5], device='cuda:0', dtype=torch.uint8)\n",
      "predicted: tensor([4], device='cuda:0'), actual: tensor([5], device='cuda:0', dtype=torch.uint8)\n",
      "predicted: tensor([4], device='cuda:0'), actual: tensor([5], device='cuda:0', dtype=torch.uint8)\n",
      "predicted: tensor([4], device='cuda:0'), actual: tensor([5], device='cuda:0', dtype=torch.uint8)\n",
      "predicted: tensor([4], device='cuda:0'), actual: tensor([5], device='cuda:0', dtype=torch.uint8)\n",
      "predicted: tensor([4], device='cuda:0'), actual: tensor([5], device='cuda:0', dtype=torch.uint8)\n",
      "predicted: tensor([4], device='cuda:0'), actual: tensor([5], device='cuda:0', dtype=torch.uint8)\n",
      "predicted: tensor([4], device='cuda:0'), actual: tensor([5], device='cuda:0', dtype=torch.uint8)\n",
      "predicted: tensor([4], device='cuda:0'), actual: tensor([5], device='cuda:0', dtype=torch.uint8)\n",
      "predicted: tensor([4], device='cuda:0'), actual: tensor([5], device='cuda:0', dtype=torch.uint8)\n",
      "predicted: tensor([4], device='cuda:0'), actual: tensor([5], device='cuda:0', dtype=torch.uint8)\n",
      "predicted: tensor([4], device='cuda:0'), actual: tensor([5], device='cuda:0', dtype=torch.uint8)\n",
      "predicted: tensor([4], device='cuda:0'), actual: tensor([5], device='cuda:0', dtype=torch.uint8)\n",
      "predicted: tensor([4], device='cuda:0'), actual: tensor([11], device='cuda:0', dtype=torch.uint8)\n",
      "predicted: tensor([4], device='cuda:0'), actual: tensor([11], device='cuda:0', dtype=torch.uint8)\n",
      "predicted: tensor([4], device='cuda:0'), actual: tensor([11], device='cuda:0', dtype=torch.uint8)\n",
      "predicted: tensor([4], device='cuda:0'), actual: tensor([11], device='cuda:0', dtype=torch.uint8)\n",
      "predicted: tensor([4], device='cuda:0'), actual: tensor([11], device='cuda:0', dtype=torch.uint8)\n",
      "predicted: tensor([4], device='cuda:0'), actual: tensor([11], device='cuda:0', dtype=torch.uint8)\n",
      "predicted: tensor([4], device='cuda:0'), actual: tensor([11], device='cuda:0', dtype=torch.uint8)\n",
      "predicted: tensor([4], device='cuda:0'), actual: tensor([11], device='cuda:0', dtype=torch.uint8)\n",
      "predicted: tensor([4], device='cuda:0'), actual: tensor([11], device='cuda:0', dtype=torch.uint8)\n",
      "predicted: tensor([4], device='cuda:0'), actual: tensor([11], device='cuda:0', dtype=torch.uint8)\n",
      "predicted: tensor([4], device='cuda:0'), actual: tensor([11], device='cuda:0', dtype=torch.uint8)\n",
      "predicted: tensor([4], device='cuda:0'), actual: tensor([11], device='cuda:0', dtype=torch.uint8)\n",
      "predicted: tensor([4], device='cuda:0'), actual: tensor([11], device='cuda:0', dtype=torch.uint8)\n",
      "predicted: tensor([4], device='cuda:0'), actual: tensor([11], device='cuda:0', dtype=torch.uint8)\n",
      "predicted: tensor([4], device='cuda:0'), actual: tensor([11], device='cuda:0', dtype=torch.uint8)\n",
      "predicted: tensor([4], device='cuda:0'), actual: tensor([11], device='cuda:0', dtype=torch.uint8)\n",
      "predicted: tensor([4], device='cuda:0'), actual: tensor([11], device='cuda:0', dtype=torch.uint8)\n",
      "predicted: tensor([4], device='cuda:0'), actual: tensor([7], device='cuda:0', dtype=torch.uint8)\n",
      "predicted: tensor([4], device='cuda:0'), actual: tensor([7], device='cuda:0', dtype=torch.uint8)\n",
      "predicted: tensor([4], device='cuda:0'), actual: tensor([7], device='cuda:0', dtype=torch.uint8)\n",
      "predicted: tensor([4], device='cuda:0'), actual: tensor([7], device='cuda:0', dtype=torch.uint8)\n",
      "predicted: tensor([4], device='cuda:0'), actual: tensor([7], device='cuda:0', dtype=torch.uint8)\n",
      "predicted: tensor([4], device='cuda:0'), actual: tensor([7], device='cuda:0', dtype=torch.uint8)\n",
      "predicted: tensor([4], device='cuda:0'), actual: tensor([7], device='cuda:0', dtype=torch.uint8)\n",
      "predicted: tensor([4], device='cuda:0'), actual: tensor([7], device='cuda:0', dtype=torch.uint8)\n",
      "predicted: tensor([4], device='cuda:0'), actual: tensor([7], device='cuda:0', dtype=torch.uint8)\n",
      "predicted: tensor([4], device='cuda:0'), actual: tensor([7], device='cuda:0', dtype=torch.uint8)\n",
      "predicted: tensor([4], device='cuda:0'), actual: tensor([7], device='cuda:0', dtype=torch.uint8)\n",
      "predicted: tensor([4], device='cuda:0'), actual: tensor([7], device='cuda:0', dtype=torch.uint8)\n",
      "predicted: tensor([4], device='cuda:0'), actual: tensor([7], device='cuda:0', dtype=torch.uint8)\n",
      "predicted: tensor([4], device='cuda:0'), actual: tensor([7], device='cuda:0', dtype=torch.uint8)\n",
      "predicted: tensor([4], device='cuda:0'), actual: tensor([7], device='cuda:0', dtype=torch.uint8)\n",
      "predicted: tensor([4], device='cuda:0'), actual: tensor([7], device='cuda:0', dtype=torch.uint8)\n",
      "predicted: tensor([4], device='cuda:0'), actual: tensor([7], device='cuda:0', dtype=torch.uint8)\n",
      "predicted: tensor([4], device='cuda:0'), actual: tensor([7], device='cuda:0', dtype=torch.uint8)\n",
      "predicted: tensor([4], device='cuda:0'), actual: tensor([4], device='cuda:0', dtype=torch.uint8)\n",
      "predicted: tensor([4], device='cuda:0'), actual: tensor([4], device='cuda:0', dtype=torch.uint8)\n",
      "predicted: tensor([4], device='cuda:0'), actual: tensor([4], device='cuda:0', dtype=torch.uint8)\n",
      "predicted: tensor([4], device='cuda:0'), actual: tensor([4], device='cuda:0', dtype=torch.uint8)\n",
      "predicted: tensor([4], device='cuda:0'), actual: tensor([4], device='cuda:0', dtype=torch.uint8)\n",
      "predicted: tensor([4], device='cuda:0'), actual: tensor([4], device='cuda:0', dtype=torch.uint8)\n",
      "predicted: tensor([4], device='cuda:0'), actual: tensor([4], device='cuda:0', dtype=torch.uint8)\n",
      "predicted: tensor([4], device='cuda:0'), actual: tensor([4], device='cuda:0', dtype=torch.uint8)\n",
      "predicted: tensor([4], device='cuda:0'), actual: tensor([4], device='cuda:0', dtype=torch.uint8)\n",
      "predicted: tensor([4], device='cuda:0'), actual: tensor([4], device='cuda:0', dtype=torch.uint8)\n",
      "predicted: tensor([4], device='cuda:0'), actual: tensor([4], device='cuda:0', dtype=torch.uint8)\n",
      "predicted: tensor([4], device='cuda:0'), actual: tensor([4], device='cuda:0', dtype=torch.uint8)\n",
      "predicted: tensor([4], device='cuda:0'), actual: tensor([4], device='cuda:0', dtype=torch.uint8)\n",
      "predicted: tensor([4], device='cuda:0'), actual: tensor([4], device='cuda:0', dtype=torch.uint8)\n",
      "predicted: tensor([4], device='cuda:0'), actual: tensor([4], device='cuda:0', dtype=torch.uint8)\n",
      "predicted: tensor([4], device='cuda:0'), actual: tensor([8], device='cuda:0', dtype=torch.uint8)\n",
      "predicted: tensor([4], device='cuda:0'), actual: tensor([8], device='cuda:0', dtype=torch.uint8)\n",
      "predicted: tensor([4], device='cuda:0'), actual: tensor([8], device='cuda:0', dtype=torch.uint8)\n",
      "predicted: tensor([4], device='cuda:0'), actual: tensor([8], device='cuda:0', dtype=torch.uint8)\n",
      "predicted: tensor([4], device='cuda:0'), actual: tensor([8], device='cuda:0', dtype=torch.uint8)\n",
      "predicted: tensor([4], device='cuda:0'), actual: tensor([8], device='cuda:0', dtype=torch.uint8)\n",
      "predicted: tensor([4], device='cuda:0'), actual: tensor([8], device='cuda:0', dtype=torch.uint8)\n",
      "predicted: tensor([4], device='cuda:0'), actual: tensor([8], device='cuda:0', dtype=torch.uint8)\n",
      "predicted: tensor([4], device='cuda:0'), actual: tensor([8], device='cuda:0', dtype=torch.uint8)\n",
      "predicted: tensor([4], device='cuda:0'), actual: tensor([8], device='cuda:0', dtype=torch.uint8)\n",
      "predicted: tensor([4], device='cuda:0'), actual: tensor([8], device='cuda:0', dtype=torch.uint8)\n",
      "predicted: tensor([4], device='cuda:0'), actual: tensor([8], device='cuda:0', dtype=torch.uint8)\n",
      "predicted: tensor([4], device='cuda:0'), actual: tensor([8], device='cuda:0', dtype=torch.uint8)\n",
      "predicted: tensor([4], device='cuda:0'), actual: tensor([8], device='cuda:0', dtype=torch.uint8)\n",
      "predicted: tensor([4], device='cuda:0'), actual: tensor([8], device='cuda:0', dtype=torch.uint8)\n",
      "predicted: tensor([4], device='cuda:0'), actual: tensor([2], device='cuda:0', dtype=torch.uint8)\n",
      "predicted: tensor([4], device='cuda:0'), actual: tensor([2], device='cuda:0', dtype=torch.uint8)\n",
      "predicted: tensor([4], device='cuda:0'), actual: tensor([2], device='cuda:0', dtype=torch.uint8)\n",
      "predicted: tensor([4], device='cuda:0'), actual: tensor([2], device='cuda:0', dtype=torch.uint8)\n",
      "predicted: tensor([4], device='cuda:0'), actual: tensor([2], device='cuda:0', dtype=torch.uint8)\n",
      "predicted: tensor([4], device='cuda:0'), actual: tensor([2], device='cuda:0', dtype=torch.uint8)\n",
      "predicted: tensor([4], device='cuda:0'), actual: tensor([2], device='cuda:0', dtype=torch.uint8)\n",
      "predicted: tensor([4], device='cuda:0'), actual: tensor([2], device='cuda:0', dtype=torch.uint8)\n",
      "predicted: tensor([4], device='cuda:0'), actual: tensor([2], device='cuda:0', dtype=torch.uint8)\n",
      "predicted: tensor([4], device='cuda:0'), actual: tensor([2], device='cuda:0', dtype=torch.uint8)\n",
      "predicted: tensor([4], device='cuda:0'), actual: tensor([2], device='cuda:0', dtype=torch.uint8)\n",
      "predicted: tensor([4], device='cuda:0'), actual: tensor([2], device='cuda:0', dtype=torch.uint8)\n",
      "predicted: tensor([4], device='cuda:0'), actual: tensor([2], device='cuda:0', dtype=torch.uint8)\n",
      "predicted: tensor([4], device='cuda:0'), actual: tensor([2], device='cuda:0', dtype=torch.uint8)\n",
      "predicted: tensor([4], device='cuda:0'), actual: tensor([2], device='cuda:0', dtype=torch.uint8)\n",
      "predicted: tensor([4], device='cuda:0'), actual: tensor([2], device='cuda:0', dtype=torch.uint8)\n",
      "predicted: tensor([4], device='cuda:0'), actual: tensor([2], device='cuda:0', dtype=torch.uint8)\n",
      "predicted: tensor([4], device='cuda:0'), actual: tensor([2], device='cuda:0', dtype=torch.uint8)\n",
      "predicted: tensor([4], device='cuda:0'), actual: tensor([2], device='cuda:0', dtype=torch.uint8)\n",
      "predicted: tensor([4], device='cuda:0'), actual: tensor([2], device='cuda:0', dtype=torch.uint8)\n",
      "predicted: tensor([4], device='cuda:0'), actual: tensor([2], device='cuda:0', dtype=torch.uint8)\n",
      "predicted: tensor([4], device='cuda:0'), actual: tensor([2], device='cuda:0', dtype=torch.uint8)\n",
      "predicted: tensor([4], device='cuda:0'), actual: tensor([2], device='cuda:0', dtype=torch.uint8)\n",
      "predicted: tensor([4], device='cuda:0'), actual: tensor([2], device='cuda:0', dtype=torch.uint8)\n",
      "predicted: tensor([4], device='cuda:0'), actual: tensor([2], device='cuda:0', dtype=torch.uint8)\n",
      "predicted: tensor([4], device='cuda:0'), actual: tensor([2], device='cuda:0', dtype=torch.uint8)\n",
      "predicted: tensor([4], device='cuda:0'), actual: tensor([2], device='cuda:0', dtype=torch.uint8)\n",
      "predicted: tensor([4], device='cuda:0'), actual: tensor([2], device='cuda:0', dtype=torch.uint8)\n",
      "predicted: tensor([4], device='cuda:0'), actual: tensor([2], device='cuda:0', dtype=torch.uint8)\n",
      "predicted: tensor([4], device='cuda:0'), actual: tensor([0], device='cuda:0', dtype=torch.uint8)\n",
      "predicted: tensor([4], device='cuda:0'), actual: tensor([0], device='cuda:0', dtype=torch.uint8)\n",
      "predicted: tensor([4], device='cuda:0'), actual: tensor([0], device='cuda:0', dtype=torch.uint8)\n",
      "predicted: tensor([4], device='cuda:0'), actual: tensor([0], device='cuda:0', dtype=torch.uint8)\n",
      "predicted: tensor([4], device='cuda:0'), actual: tensor([0], device='cuda:0', dtype=torch.uint8)\n",
      "predicted: tensor([4], device='cuda:0'), actual: tensor([0], device='cuda:0', dtype=torch.uint8)\n",
      "predicted: tensor([4], device='cuda:0'), actual: tensor([0], device='cuda:0', dtype=torch.uint8)\n",
      "predicted: tensor([4], device='cuda:0'), actual: tensor([0], device='cuda:0', dtype=torch.uint8)\n",
      "predicted: tensor([4], device='cuda:0'), actual: tensor([0], device='cuda:0', dtype=torch.uint8)\n",
      "predicted: tensor([4], device='cuda:0'), actual: tensor([0], device='cuda:0', dtype=torch.uint8)\n",
      "predicted: tensor([4], device='cuda:0'), actual: tensor([1], device='cuda:0', dtype=torch.uint8)\n",
      "predicted: tensor([4], device='cuda:0'), actual: tensor([0], device='cuda:0', dtype=torch.uint8)\n",
      "predicted: tensor([4], device='cuda:0'), actual: tensor([0], device='cuda:0', dtype=torch.uint8)\n",
      "predicted: tensor([4], device='cuda:0'), actual: tensor([0], device='cuda:0', dtype=torch.uint8)\n",
      "predicted: tensor([4], device='cuda:0'), actual: tensor([0], device='cuda:0', dtype=torch.uint8)\n",
      "predicted: tensor([4], device='cuda:0'), actual: tensor([0], device='cuda:0', dtype=torch.uint8)\n",
      "predicted: tensor([4], device='cuda:0'), actual: tensor([0], device='cuda:0', dtype=torch.uint8)\n",
      "predicted: tensor([4], device='cuda:0'), actual: tensor([0], device='cuda:0', dtype=torch.uint8)\n",
      "predicted: tensor([4], device='cuda:0'), actual: tensor([0], device='cuda:0', dtype=torch.uint8)\n",
      "predicted: tensor([4], device='cuda:0'), actual: tensor([0], device='cuda:0', dtype=torch.uint8)\n",
      "predicted: tensor([4], device='cuda:0'), actual: tensor([0], device='cuda:0', dtype=torch.uint8)\n",
      "predicted: tensor([4], device='cuda:0'), actual: tensor([1], device='cuda:0', dtype=torch.uint8)\n",
      "predicted: tensor([4], device='cuda:0'), actual: tensor([1], device='cuda:0', dtype=torch.uint8)\n",
      "predicted: tensor([4], device='cuda:0'), actual: tensor([1], device='cuda:0', dtype=torch.uint8)\n",
      "predicted: tensor([4], device='cuda:0'), actual: tensor([1], device='cuda:0', dtype=torch.uint8)\n",
      "predicted: tensor([4], device='cuda:0'), actual: tensor([1], device='cuda:0', dtype=torch.uint8)\n",
      "predicted: tensor([4], device='cuda:0'), actual: tensor([1], device='cuda:0', dtype=torch.uint8)\n",
      "predicted: tensor([4], device='cuda:0'), actual: tensor([1], device='cuda:0', dtype=torch.uint8)\n",
      "predicted: tensor([4], device='cuda:0'), actual: tensor([1], device='cuda:0', dtype=torch.uint8)\n",
      "predicted: tensor([4], device='cuda:0'), actual: tensor([1], device='cuda:0', dtype=torch.uint8)\n",
      "predicted: tensor([4], device='cuda:0'), actual: tensor([1], device='cuda:0', dtype=torch.uint8)\n",
      "predicted: tensor([4], device='cuda:0'), actual: tensor([1], device='cuda:0', dtype=torch.uint8)\n",
      "predicted: tensor([4], device='cuda:0'), actual: tensor([9], device='cuda:0', dtype=torch.uint8)\n",
      "predicted: tensor([4], device='cuda:0'), actual: tensor([9], device='cuda:0', dtype=torch.uint8)\n",
      "predicted: tensor([4], device='cuda:0'), actual: tensor([9], device='cuda:0', dtype=torch.uint8)\n",
      "predicted: tensor([4], device='cuda:0'), actual: tensor([9], device='cuda:0', dtype=torch.uint8)\n",
      "predicted: tensor([4], device='cuda:0'), actual: tensor([9], device='cuda:0', dtype=torch.uint8)\n",
      "predicted: tensor([4], device='cuda:0'), actual: tensor([9], device='cuda:0', dtype=torch.uint8)\n",
      "predicted: tensor([4], device='cuda:0'), actual: tensor([9], device='cuda:0', dtype=torch.uint8)\n",
      "predicted: tensor([4], device='cuda:0'), actual: tensor([9], device='cuda:0', dtype=torch.uint8)\n",
      "predicted: tensor([4], device='cuda:0'), actual: tensor([9], device='cuda:0', dtype=torch.uint8)\n",
      "predicted: tensor([4], device='cuda:0'), actual: tensor([9], device='cuda:0', dtype=torch.uint8)\n",
      "predicted: tensor([4], device='cuda:0'), actual: tensor([9], device='cuda:0', dtype=torch.uint8)\n",
      "predicted: tensor([4], device='cuda:0'), actual: tensor([9], device='cuda:0', dtype=torch.uint8)\n",
      "predicted: tensor([4], device='cuda:0'), actual: tensor([9], device='cuda:0', dtype=torch.uint8)\n",
      "predicted: tensor([4], device='cuda:0'), actual: tensor([9], device='cuda:0', dtype=torch.uint8)\n",
      "predicted: tensor([4], device='cuda:0'), actual: tensor([9], device='cuda:0', dtype=torch.uint8)\n",
      "predicted: tensor([4], device='cuda:0'), actual: tensor([9], device='cuda:0', dtype=torch.uint8)\n",
      "predicted: tensor([4], device='cuda:0'), actual: tensor([9], device='cuda:0', dtype=torch.uint8)\n",
      "predicted: tensor([4], device='cuda:0'), actual: tensor([9], device='cuda:0', dtype=torch.uint8)\n",
      "predicted: tensor([4], device='cuda:0'), actual: tensor([9], device='cuda:0', dtype=torch.uint8)\n",
      "predicted: tensor([4], device='cuda:0'), actual: tensor([9], device='cuda:0', dtype=torch.uint8)\n",
      "predicted: tensor([4], device='cuda:0'), actual: tensor([9], device='cuda:0', dtype=torch.uint8)\n",
      "predicted: tensor([4], device='cuda:0'), actual: tensor([9], device='cuda:0', dtype=torch.uint8)\n",
      "predicted: tensor([4], device='cuda:0'), actual: tensor([9], device='cuda:0', dtype=torch.uint8)\n",
      "predicted: tensor([4], device='cuda:0'), actual: tensor([9], device='cuda:0', dtype=torch.uint8)\n",
      "predicted: tensor([4], device='cuda:0'), actual: tensor([9], device='cuda:0', dtype=torch.uint8)\n",
      "predicted: tensor([4], device='cuda:0'), actual: tensor([9], device='cuda:0', dtype=torch.uint8)\n",
      "predicted: tensor([4], device='cuda:0'), actual: tensor([9], device='cuda:0', dtype=torch.uint8)\n",
      "predicted: tensor([4], device='cuda:0'), actual: tensor([9], device='cuda:0', dtype=torch.uint8)\n",
      "predicted: tensor([4], device='cuda:0'), actual: tensor([9], device='cuda:0', dtype=torch.uint8)\n",
      "predicted: tensor([4], device='cuda:0'), actual: tensor([3], device='cuda:0', dtype=torch.uint8)\n",
      "predicted: tensor([4], device='cuda:0'), actual: tensor([3], device='cuda:0', dtype=torch.uint8)\n",
      "predicted: tensor([4], device='cuda:0'), actual: tensor([3], device='cuda:0', dtype=torch.uint8)\n",
      "predicted: tensor([4], device='cuda:0'), actual: tensor([3], device='cuda:0', dtype=torch.uint8)\n",
      "predicted: tensor([4], device='cuda:0'), actual: tensor([3], device='cuda:0', dtype=torch.uint8)\n",
      "predicted: tensor([4], device='cuda:0'), actual: tensor([3], device='cuda:0', dtype=torch.uint8)\n",
      "predicted: tensor([4], device='cuda:0'), actual: tensor([3], device='cuda:0', dtype=torch.uint8)\n",
      "predicted: tensor([4], device='cuda:0'), actual: tensor([3], device='cuda:0', dtype=torch.uint8)\n",
      "predicted: tensor([4], device='cuda:0'), actual: tensor([3], device='cuda:0', dtype=torch.uint8)\n",
      "predicted: tensor([4], device='cuda:0'), actual: tensor([3], device='cuda:0', dtype=torch.uint8)\n",
      "predicted: tensor([4], device='cuda:0'), actual: tensor([3], device='cuda:0', dtype=torch.uint8)\n",
      "predicted: tensor([4], device='cuda:0'), actual: tensor([3], device='cuda:0', dtype=torch.uint8)\n",
      "predicted: tensor([4], device='cuda:0'), actual: tensor([3], device='cuda:0', dtype=torch.uint8)\n",
      "predicted: tensor([4], device='cuda:0'), actual: tensor([0], device='cuda:0', dtype=torch.uint8)\n",
      "predicted: tensor([4], device='cuda:0'), actual: tensor([0], device='cuda:0', dtype=torch.uint8)\n",
      "predicted: tensor([4], device='cuda:0'), actual: tensor([0], device='cuda:0', dtype=torch.uint8)\n",
      "predicted: tensor([4], device='cuda:0'), actual: tensor([0], device='cuda:0', dtype=torch.uint8)\n",
      "predicted: tensor([4], device='cuda:0'), actual: tensor([0], device='cuda:0', dtype=torch.uint8)\n",
      "predicted: tensor([4], device='cuda:0'), actual: tensor([0], device='cuda:0', dtype=torch.uint8)\n",
      "predicted: tensor([4], device='cuda:0'), actual: tensor([0], device='cuda:0', dtype=torch.uint8)\n",
      "predicted: tensor([4], device='cuda:0'), actual: tensor([0], device='cuda:0', dtype=torch.uint8)\n",
      "predicted: tensor([4], device='cuda:0'), actual: tensor([0], device='cuda:0', dtype=torch.uint8)\n",
      "predicted: tensor([4], device='cuda:0'), actual: tensor([0], device='cuda:0', dtype=torch.uint8)\n",
      "predicted: tensor([4], device='cuda:0'), actual: tensor([0], device='cuda:0', dtype=torch.uint8)\n",
      "predicted: tensor([4], device='cuda:0'), actual: tensor([0], device='cuda:0', dtype=torch.uint8)\n",
      "predicted: tensor([4], device='cuda:0'), actual: tensor([0], device='cuda:0', dtype=torch.uint8)\n",
      "predicted: tensor([4], device='cuda:0'), actual: tensor([0], device='cuda:0', dtype=torch.uint8)\n",
      "predicted: tensor([4], device='cuda:0'), actual: tensor([0], device='cuda:0', dtype=torch.uint8)\n",
      "predicted: tensor([4], device='cuda:0'), actual: tensor([0], device='cuda:0', dtype=torch.uint8)\n",
      "43\n",
      "273\n",
      "Accuracy of the network on the test images: 15 %\n"
     ]
    }
   ],
   "source": [
    "#predict\n",
    "correct = 0\n",
    "total = 0\n",
    "\n",
    "with torch.no_grad():\n",
    "    for images, labels in test_loader:\n",
    "        images = images.to('cuda')\n",
    "        labels = labels.to('cuda')\n",
    "\n",
    "        outputs = model(images)\n",
    "        _, predicted = torch.max(outputs.data, 1)\n",
    "        total += labels.size(0)\n",
    "        correct += (predicted == labels).sum().item()\n",
    "        print(f\"predicted: {predicted}, actual: {labels}\")\n",
    "\n",
    "print(correct)\n",
    "print(total)\n",
    "print('Accuracy of the network on the test images: %d %%' % (100 * correct / total))"
   ]
  },
  {
   "cell_type": "code",
   "execution_count": 19,
   "metadata": {},
   "outputs": [
    {
     "ename": "",
     "evalue": "",
     "output_type": "error",
     "traceback": [
      "\u001b[1;31mThe Kernel crashed while executing code in the current cell or a previous cell. \n",
      "\u001b[1;31mPlease review the code in the cell(s) to identify a possible cause of the failure. \n",
      "\u001b[1;31mClick <a href='https://aka.ms/vscodeJupyterKernelCrash'>here</a> for more info. \n",
      "\u001b[1;31mView Jupyter <a href='command:jupyter.viewOutput'>log</a> for further details."
     ]
    }
   ],
   "source": [
    "torch.save(model.state_dict(), 'model.pth')"
   ]
  }
 ],
 "metadata": {
  "kernelspec": {
   "display_name": "computer-vision-2",
   "language": "python",
   "name": "python3"
  },
  "language_info": {
   "codemirror_mode": {
    "name": "ipython",
    "version": 3
   },
   "file_extension": ".py",
   "mimetype": "text/x-python",
   "name": "python",
   "nbconvert_exporter": "python",
   "pygments_lexer": "ipython3",
   "version": "3.8.20"
  }
 },
 "nbformat": 4,
 "nbformat_minor": 2
}
